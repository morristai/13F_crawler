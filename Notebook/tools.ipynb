{
 "cells": [
  {
   "cell_type": "code",
   "execution_count": 2,
   "metadata": {
    "collapsed": true
   },
   "outputs": [],
   "source": [
    "import pickle\n",
    "import pandas as pd\n",
    "import numpy as np\n",
    "from collections import defaultdict"
   ]
  },
  {
   "cell_type": "code",
   "execution_count": 37,
   "outputs": [],
   "source": [
    "# done_queue = {3: ['2019-12-31'], }\n",
    "#\n",
    "# with open('/mnt/c/Users/morris/Downloads/13F/Cache/done_queue.pkl', 'wb') as f:\n",
    "#     pickle.dump(done_queue, f)"
   ],
   "metadata": {
    "collapsed": false,
    "pycharm": {
     "name": "#%%\n"
    }
   }
  },
  {
   "cell_type": "code",
   "execution_count": null,
   "outputs": [],
   "source": [
    "# excelize done_queue\n",
    "# df = pd.DataFrame({k:pd.Series(v) for k, v in done.items()})\n",
    "\n",
    "# reload excel after modify\n",
    "done = pd.read_csv('/mnt/c/Users/morris/Downloads/13F/Cache/done_queue.csv')\n",
    "# reduction to dict\n",
    "done = done.stack().groupby(level=1).apply(list)\n",
    "done.index = done.index.astype(int)\n",
    "done = done.to_dict()\n",
    "\n",
    "# save back to picke\n",
    "with open('/mnt/c/Users/morris/Downloads/13F/Cache/done_queue.pkl', 'wb') as f:\n",
    "    pickle.dump(done, f)"
   ],
   "metadata": {
    "collapsed": false,
    "pycharm": {
     "name": "#%%\n"
    }
   }
  },
  {
   "cell_type": "code",
   "execution_count": 8,
   "outputs": [
    {
     "data": {
      "text/plain": "{4: ['2020-03-31',\n  '2019-12-31',\n  '2019-09-30',\n  '2019-06-30',\n  '2019-03-31',\n  '2018-12-31',\n  '2018-09-30',\n  '2018-06-30',\n  '2018-03-31',\n  '2017-12-31',\n  '2017-09-30',\n  '2017-06-30',\n  '2017-03-31',\n  '2016-12-31',\n  '2016-09-30',\n  '2016-06-30',\n  '2016-03-31',\n  '2015-12-31',\n  '2015-09-30',\n  '2015-06-30',\n  '2015-03-31',\n  '2014-12-31',\n  '2014-09-30',\n  '2014-06-30',\n  '2014-03-31',\n  '2013-12-31',\n  '2013-09-30',\n  '2013-06-30',\n  '2013-03-31',\n  '2012-12-31',\n  '2012-09-30',\n  '2012-06-30',\n  '2012-03-31',\n  '2011-12-31',\n  '2011-09-30',\n  '2011-06-30',\n  '2011-03-31',\n  '2010-12-31'],\n 5: ['2020-03-31', '2019-12-31']}"
     },
     "execution_count": 8,
     "metadata": {},
     "output_type": "execute_result"
    }
   ],
   "source": [
    "# Peak done_queue in Cache\n",
    "with open('/mnt/c/Users/morris/Downloads/13F/Cache/done_queue.pkl', 'rb') as file:\n",
    "    done = pickle.load(file)\n",
    "done"
   ],
   "metadata": {
    "collapsed": false,
    "pycharm": {
     "name": "#%%\n"
    }
   }
  },
  {
   "cell_type": "code",
   "execution_count": 38,
   "outputs": [],
   "source": [
    "df_fund = pd.read_csv('/mnt/c/Users/morris/Downloads/13F/Data/2020-06-09-05_fund_id.csv', index_col=\"Id\")\n",
    "df_fund = df_fund.to_dict()['Fund'] #.items()\n",
    "# for fund_id, target_fund in df_fund.items():\n"
   ],
   "metadata": {
    "collapsed": false,
    "pycharm": {
     "name": "#%%\n"
    }
   }
  },
  {
   "cell_type": "code",
   "execution_count": 2,
   "outputs": [
    {
     "data": {
      "text/plain": "                        Fund          Manager\nId                                           \n4           Icahn Capital LP       Carl Icahn\n5   Renaissance Technologies       Jim Simons\n6             Mohnish Pabrai   Mohnish Pabrai\n7              Baupost Group     Seth Klarman\n8       SAC Capital Advisors     Steven Cohen\n9     Navellier & Associates  Louis Navellier\n10        Bridger Management  Roberto Mignone",
      "text/html": "<div>\n<style scoped>\n    .dataframe tbody tr th:only-of-type {\n        vertical-align: middle;\n    }\n\n    .dataframe tbody tr th {\n        vertical-align: top;\n    }\n\n    .dataframe thead th {\n        text-align: right;\n    }\n</style>\n<table border=\"1\" class=\"dataframe\">\n  <thead>\n    <tr style=\"text-align: right;\">\n      <th></th>\n      <th>Fund</th>\n      <th>Manager</th>\n    </tr>\n    <tr>\n      <th>Id</th>\n      <th></th>\n      <th></th>\n    </tr>\n  </thead>\n  <tbody>\n    <tr>\n      <th>4</th>\n      <td>Icahn Capital LP</td>\n      <td>Carl Icahn</td>\n    </tr>\n    <tr>\n      <th>5</th>\n      <td>Renaissance Technologies</td>\n      <td>Jim Simons</td>\n    </tr>\n    <tr>\n      <th>6</th>\n      <td>Mohnish Pabrai</td>\n      <td>Mohnish Pabrai</td>\n    </tr>\n    <tr>\n      <th>7</th>\n      <td>Baupost Group</td>\n      <td>Seth Klarman</td>\n    </tr>\n    <tr>\n      <th>8</th>\n      <td>SAC Capital Advisors</td>\n      <td>Steven Cohen</td>\n    </tr>\n    <tr>\n      <th>9</th>\n      <td>Navellier &amp; Associates</td>\n      <td>Louis Navellier</td>\n    </tr>\n    <tr>\n      <th>10</th>\n      <td>Bridger Management</td>\n      <td>Roberto Mignone</td>\n    </tr>\n  </tbody>\n</table>\n</div>"
     },
     "execution_count": 2,
     "metadata": {},
     "output_type": "execute_result"
    }
   ],
   "source": [
    "df_fund = pd.read_csv('/mnt/c/Users/morris/Downloads/13F/Data/2020-06-09-05_fund_id.csv', index_col=\"Id\")\n",
    "df_fund.iloc[3:10,:]"
   ],
   "metadata": {
    "collapsed": false,
    "pycharm": {
     "name": "#%%\n"
    }
   }
  },
  {
   "cell_type": "code",
   "execution_count": 9,
   "outputs": [
    {
     "data": {
      "text/plain": "           1        2\n0     morris     ziva\n1  1323213rf   qeqwds\n2        NaN  sdsdfdg",
      "text/html": "<div>\n<style scoped>\n    .dataframe tbody tr th:only-of-type {\n        vertical-align: middle;\n    }\n\n    .dataframe tbody tr th {\n        vertical-align: top;\n    }\n\n    .dataframe thead th {\n        text-align: right;\n    }\n</style>\n<table border=\"1\" class=\"dataframe\">\n  <thead>\n    <tr style=\"text-align: right;\">\n      <th></th>\n      <th>1</th>\n      <th>2</th>\n    </tr>\n  </thead>\n  <tbody>\n    <tr>\n      <th>0</th>\n      <td>morris</td>\n      <td>ziva</td>\n    </tr>\n    <tr>\n      <th>1</th>\n      <td>1323213rf</td>\n      <td>qeqwds</td>\n    </tr>\n    <tr>\n      <th>2</th>\n      <td>NaN</td>\n      <td>sdsdfdg</td>\n    </tr>\n  </tbody>\n</table>\n</div>"
     },
     "execution_count": 9,
     "metadata": {},
     "output_type": "execute_result"
    }
   ],
   "source": [],
   "metadata": {
    "collapsed": false,
    "pycharm": {
     "name": "#%%\n"
    }
   }
  }
 ],
 "metadata": {
  "kernelspec": {
   "display_name": "Python 3",
   "language": "python",
   "name": "python3"
  },
  "language_info": {
   "codemirror_mode": {
    "name": "ipython",
    "version": 2
   },
   "file_extension": ".py",
   "mimetype": "text/x-python",
   "name": "python",
   "nbconvert_exporter": "python",
   "pygments_lexer": "ipython2",
   "version": "2.7.6"
  }
 },
 "nbformat": 4,
 "nbformat_minor": 0
}